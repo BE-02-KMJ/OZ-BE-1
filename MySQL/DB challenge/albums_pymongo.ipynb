{
 "cells": [
  {
   "cell_type": "markdown",
   "metadata": {},
   "source": [
    "## pymongo 사용 실습"
   ]
  },
  {
   "cell_type": "code",
   "execution_count": 5,
   "metadata": {},
   "outputs": [
    {
     "data": {
      "text/plain": [
       "MongoClient(host=['localhost:27017'], document_class=dict, tz_aware=False, connect=True)"
      ]
     },
     "execution_count": 5,
     "metadata": {},
     "output_type": "execute_result"
    }
   ],
   "source": [
    "from pymongo import MongoClient\n",
    "\n",
    "# MongoDB 인스턴스에 연결\n",
    "client = MongoClient('mongodb://localhost:27017/')\n",
    "db = client['mongodbtest']\n",
    "client"
   ]
  },
  {
   "cell_type": "code",
   "execution_count": 6,
   "metadata": {},
   "outputs": [
    {
     "name": "stdout",
     "output_type": "stream",
     "text": [
      "{'_id': ObjectId('65c1e1b314443979b29c083e'), '앨범': 'The White Stripes', '연도': '1999'}\n",
      "{'_id': ObjectId('65c1e1b314443979b29c083f'), '앨범': 'De Stijl', '연도': '2000'}\n",
      "{'_id': ObjectId('65c1e1b314443979b29c0840'), '앨범': 'White Blood Cells', '연도': '2001'}\n",
      "{'_id': ObjectId('65c1e1b314443979b29c0841'), '앨범': 'Elephant', '연도': '2003'}\n",
      "{'_id': ObjectId('65c1e1b314443979b29c0842'), '앨범': 'Get Behind Me Satan', '연도': '2005'}\n",
      "{'_id': ObjectId('65c1e1b314443979b29c0843'), '앨범': 'Icky Thump', '연도': '2007'}\n",
      "{'_id': ObjectId('65c1e1b314443979b29c0844'), '앨범': 'Under Great White Northern Lights', '연도': '2010'}\n",
      "{'_id': ObjectId('65c1e1b314443979b29c0845'), '앨범': 'Live in Mississippi', '연도': '2011'}\n",
      "{'_id': ObjectId('65c1e1b314443979b29c0846'), '앨범': 'Live at the Gold Dollar', '연도': '2012'}\n",
      "{'_id': ObjectId('65c1e1b314443979b29c0847'), '앨범': 'Nine Miles from the White City', '연도': '2013'}\n"
     ]
    }
   ],
   "source": [
    "# 앨범 목록 조회\n",
    "for album in db.albums.find({}, {'앨범': 1, '연도': 1}):\n",
    "    print(album)"
   ]
  },
  {
   "cell_type": "code",
   "execution_count": 7,
   "metadata": {},
   "outputs": [
    {
     "name": "stdout",
     "output_type": "stream",
     "text": [
      "{'_id': ObjectId('65c1e1b314443979b29c083f'), '앨범': 'De Stijl', '연도': '2000', '최고순위': '-'}\n"
     ]
    }
   ],
   "source": [
    "# 2000년 발매 앨범 조회\n",
    "for album in db.albums.find({'연도': '2000'}):\n",
    "    print(album)"
   ]
  },
  {
   "cell_type": "code",
   "execution_count": 8,
   "metadata": {},
   "outputs": [],
   "source": [
    "# 차트 최고 순위 10위 이내 앨범 조회\n",
    "for album in db.albums.find({'최고순위': {'$lte': 10}}):\n",
    "    print(album)"
   ]
  },
  {
   "cell_type": "code",
   "execution_count": 9,
   "metadata": {},
   "outputs": [
    {
     "name": "stdout",
     "output_type": "stream",
     "text": [
      "{'_id': '1999', 'count': 1}\n",
      "{'_id': '2003', 'count': 1}\n",
      "{'_id': '2011', 'count': 1}\n",
      "{'_id': '2007', 'count': 1}\n",
      "{'_id': '2012', 'count': 1}\n",
      "{'_id': '2001', 'count': 1}\n",
      "{'_id': '2000', 'count': 1}\n",
      "{'_id': '2005', 'count': 1}\n",
      "{'_id': '2013', 'count': 1}\n",
      "{'_id': '2010', 'count': 1}\n"
     ]
    }
   ],
   "source": [
    "# 연도별 앨범 수 조회\n",
    "for count in db.albums.aggregate([{'$group': {'_id': \"$연도\", 'count': {'$sum': 1}}}]):\n",
    "    print(count)"
   ]
  },
  {
   "cell_type": "code",
   "execution_count": 10,
   "metadata": {},
   "outputs": [
    {
     "name": "stdout",
     "output_type": "stream",
     "text": [
      "{'_id': ObjectId('65c1e1b314443979b29c0847'), '앨범': 'Nine Miles from the White City', '연도': '2013', '최고순위': '-'}\n"
     ]
    }
   ],
   "source": [
    "# 가장 최신 앨범 조회\n",
    "print(db.albums.find().sort('연도', -1).limit(1)[0])"
   ]
  },
  {
   "cell_type": "code",
   "execution_count": 11,
   "metadata": {},
   "outputs": [
    {
     "name": "stdout",
     "output_type": "stream",
     "text": [
      "{'_id': ObjectId('65c1e1b314443979b29c083e'), '앨범': 'The White Stripes', '연도': '1999', '최고순위': '-'}\n"
     ]
    }
   ],
   "source": [
    "# 가장 오래된 앨범 조회\n",
    "print(db.albums.find().sort('연도', 1).limit(1)[0])"
   ]
  },
  {
   "cell_type": "code",
   "execution_count": 12,
   "metadata": {},
   "outputs": [
    {
     "name": "stdout",
     "output_type": "stream",
     "text": [
      "{'_id': ObjectId('65c1e1b314443979b29c083e'), '앨범': 'The White Stripes', '연도': '1999', '최고순위': '-'}\n",
      "{'_id': ObjectId('65c1e1b314443979b29c083f'), '앨범': 'De Stijl', '연도': '2000', '최고순위': '-'}\n",
      "{'_id': ObjectId('65c1e1b314443979b29c0840'), '앨범': 'White Blood Cells', '연도': '2001', '최고순위': '61'}\n",
      "{'_id': ObjectId('65c1e1b314443979b29c0841'), '앨범': 'Elephant', '연도': '2003', '최고순위': '6'}\n",
      "{'_id': ObjectId('65c1e1b314443979b29c0842'), '앨범': 'Get Behind Me Satan', '연도': '2005', '최고순위': '3'}\n",
      "{'_id': ObjectId('65c1e1b314443979b29c0843'), '앨범': 'Icky Thump', '연도': '2007', '최고순위': '2'}\n",
      "{'_id': ObjectId('65c1e1b314443979b29c0844'), '앨범': 'Under Great White Northern Lights', '연도': '2010', '최고순위': '11'}\n",
      "{'_id': ObjectId('65c1e1b314443979b29c0845'), '앨범': 'Live in Mississippi', '연도': '2011', '최고순위': '-'}\n",
      "{'_id': ObjectId('65c1e1b314443979b29c0846'), '앨범': 'Live at the Gold Dollar', '연도': '2012', '최고순위': '-'}\n",
      "{'_id': ObjectId('65c1e1b314443979b29c0847'), '앨범': 'Nine Miles from the White City', '연도': '2013', '최고순위': '-'}\n",
      "{'_id': ObjectId('65c1e7f10768863b38ff536c'), '앨범': 'New Album', '연도': '2024', '최고순위': '1'}\n"
     ]
    }
   ],
   "source": [
    "# CRUD 연습 문제\n",
    "# 새 앨범 추가\n",
    "db.albums.insert_one({'앨범': 'New Album', '연도': '2024', '최고순위': '1'})\n",
    "for album in db.albums.find():\n",
    "    print(album)"
   ]
  },
  {
   "cell_type": "code",
   "execution_count": 13,
   "metadata": {},
   "outputs": [
    {
     "name": "stdout",
     "output_type": "stream",
     "text": [
      "{'_id': ObjectId('65c1e1b314443979b29c083e'), '앨범': 'The White Stripes', '연도': '1999', '최고순위': '-'}\n",
      "{'_id': ObjectId('65c1e1b314443979b29c083f'), '앨범': 'De Stijl', '연도': '2000', '최고순위': '-'}\n",
      "{'_id': ObjectId('65c1e1b314443979b29c0840'), '앨범': 'White Blood Cells', '연도': '2001', '최고순위': '61'}\n",
      "{'_id': ObjectId('65c1e1b314443979b29c0841'), '앨범': 'Elephant', '연도': '2003', '최고순위': '6'}\n",
      "{'_id': ObjectId('65c1e1b314443979b29c0842'), '앨범': 'Get Behind Me Satan', '연도': '2005', '최고순위': '3'}\n",
      "{'_id': ObjectId('65c1e1b314443979b29c0843'), '앨범': 'Icky Thump', '연도': '2007', '최고순위': '2'}\n",
      "{'_id': ObjectId('65c1e1b314443979b29c0844'), '앨범': 'Under Great White Northern Lights', '연도': '2010', '최고순위': '11'}\n",
      "{'_id': ObjectId('65c1e1b314443979b29c0845'), '앨범': 'Live in Mississippi', '연도': '2011', '최고순위': '-'}\n",
      "{'_id': ObjectId('65c1e1b314443979b29c0846'), '앨범': 'Live at the Gold Dollar', '연도': '2012', '최고순위': '-'}\n",
      "{'_id': ObjectId('65c1e1b314443979b29c0847'), '앨범': 'Nine Miles from the White City', '연도': '2013', '최고순위': '-'}\n",
      "{'_id': ObjectId('65c1e7f10768863b38ff536c'), '앨범': 'New Album', '연도': '2024', '최고순위': '2'}\n"
     ]
    }
   ],
   "source": [
    "# 앨범 정보 업데이트\n",
    "db.albums.update_one({'앨범': 'New Album'}, {'$set': {'최고순위': '2'}})\n",
    "for album in db.albums.find():\n",
    "    print(album)"
   ]
  },
  {
   "cell_type": "code",
   "execution_count": 14,
   "metadata": {},
   "outputs": [
    {
     "name": "stdout",
     "output_type": "stream",
     "text": [
      "{'_id': ObjectId('65c1e1b314443979b29c083e'), '앨범': 'The White Stripes', '연도': '1999', '최고순위': '-'}\n",
      "{'_id': ObjectId('65c1e1b314443979b29c083f'), '앨범': 'De Stijl', '연도': '2000', '최고순위': '-'}\n",
      "{'_id': ObjectId('65c1e1b314443979b29c0840'), '앨범': 'White Blood Cells', '연도': '2001', '최고순위': '61'}\n",
      "{'_id': ObjectId('65c1e1b314443979b29c0841'), '앨범': 'Elephant', '연도': '2003', '최고순위': '6'}\n",
      "{'_id': ObjectId('65c1e1b314443979b29c0842'), '앨범': 'Get Behind Me Satan', '연도': '2005', '최고순위': '3'}\n",
      "{'_id': ObjectId('65c1e1b314443979b29c0843'), '앨범': 'Icky Thump', '연도': '2007', '최고순위': '2'}\n",
      "{'_id': ObjectId('65c1e1b314443979b29c0844'), '앨범': 'Under Great White Northern Lights', '연도': '2010', '최고순위': '11'}\n",
      "{'_id': ObjectId('65c1e1b314443979b29c0845'), '앨범': 'Live in Mississippi', '연도': '2011', '최고순위': '-'}\n",
      "{'_id': ObjectId('65c1e1b314443979b29c0846'), '앨범': 'Live at the Gold Dollar', '연도': '2012', '최고순위': '-'}\n",
      "{'_id': ObjectId('65c1e1b314443979b29c0847'), '앨범': 'Nine Miles from the White City', '연도': '2013', '최고순위': '-'}\n"
     ]
    }
   ],
   "source": [
    "# 특정 앨범 삭제\n",
    "db.albums.delete_one({'앨범': 'New Album'})\n",
    "for album in db.albums.find():\n",
    "    print(album)"
   ]
  }
 ],
 "metadata": {
  "kernelspec": {
   "display_name": ".venv",
   "language": "python",
   "name": "python3"
  },
  "language_info": {
   "codemirror_mode": {
    "name": "ipython",
    "version": 3
   },
   "file_extension": ".py",
   "mimetype": "text/x-python",
   "name": "python",
   "nbconvert_exporter": "python",
   "pygments_lexer": "ipython3",
   "version": "3.12.1"
  }
 },
 "nbformat": 4,
 "nbformat_minor": 2
}
